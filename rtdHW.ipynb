{
 "cells": [
  {
   "cell_type": "code",
   "execution_count": 2,
   "metadata": {},
   "outputs": [
    {
     "name": "stdin",
     "output_type": "stream",
     "text": [
      "How many dice do you want to roll? [do not enter anything more than 800 and less than 1 please] 3\n"
     ]
    },
    {
     "name": "stdout",
     "output_type": "stream",
     "text": [
      "Rolling...\n",
      "Your number/numbers are [1, 3, 6] !!!\n",
      "Computer is going to roll.\n",
      "Rolling...\n",
      "The computers number/numbers are [3, 1, 3] !!!\n",
      "Calculating score...\n",
      "Your score is higher than the computers score! You win!!!🎉🎉🎉\n"
     ]
    }
   ],
   "source": [
    "import random\n",
    "import time\n",
    "q = []\n",
    "w = int(input('How many dice do you want to roll? [do not enter anything more than 800 and less than 1 please]'))\n",
    "for i in range(w):\n",
    "    q.append(random.randint(1,6))\n",
    "time.sleep(1)\n",
    "print('Rolling...')\n",
    "time.sleep(2)\n",
    "print('Your number/numbers are',q,'!!!')\n",
    "time.sleep(3)\n",
    "print('Computer is going to roll.')\n",
    "r = []\n",
    "for i in range(w):\n",
    "    r.append(random.randint(1,6))\n",
    "time.sleep(1)\n",
    "print('Rolling...')\n",
    "time.sleep(2)\n",
    "print('The computers number/numbers are',r,'!!!')\n",
    "a=sum(q)\n",
    "b=sum(r)\n",
    "time.sleep(3)\n",
    "print('Calculating score...')\n",
    "time.sleep(2)\n",
    "if a>b:\n",
    "    print('Your score is higher than the computers score! You win!!!🎉🎉🎉')\n",
    "elif b>a:\n",
    "    print('The computers score is higher than yours, so the computer wins.')\n",
    "elif a==b:\n",
    "    print('Your scores are equal, so you tied!')"
   ]
  },
  {
   "cell_type": "code",
   "execution_count": null,
   "metadata": {},
   "outputs": [],
   "source": []
  }
 ],
 "metadata": {
  "kernelspec": {
   "display_name": "Python 3",
   "language": "python",
   "name": "python3"
  },
  "language_info": {
   "codemirror_mode": {
    "name": "ipython",
    "version": 3
   },
   "file_extension": ".py",
   "mimetype": "text/x-python",
   "name": "python",
   "nbconvert_exporter": "python",
   "pygments_lexer": "ipython3",
   "version": "3.7.6"
  }
 },
 "nbformat": 4,
 "nbformat_minor": 4
}
