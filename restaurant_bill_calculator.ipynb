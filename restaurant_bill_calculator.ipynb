{
 "cells": [
  {
   "cell_type": "code",
   "execution_count": 2,
   "metadata": {
    "collapsed": true
   },
   "outputs": [],
   "source": [
    "def payment_calculator():\n",
    "    bill_amount=input('What is your bill amount? :')\n",
    "    tax_percentage=input('What is your tax percentage? ')\n",
    "    tip_percentage=input ('What % tip you would like to give?')\n",
    "    tax_amount=float(bill_amount)*float(tax_percentage)/100\n",
    "    tip_amount=float(bill_amount)*float(tip_percentage)/100\n",
    "    print('Your tips is $', tip_amount, '!')\n",
    "    total_amount=float(bill_amount)+tip_amount+tax_amount\n",
    "    print('Your total amount is $', total_amount, '!')\n",
    "    number_of_people=input('How many of you will share this bill? :')\n",
    "    print('Everyone of you need to pay $', total_amount/int(number_of_people))"
   ]
  },
  {
   "cell_type": "code",
   "execution_count": 3,
   "metadata": {},
   "outputs": [
    {
     "name": "stdout",
     "output_type": "stream",
     "text": [
      "What is your bill amount? :100\n",
      "What is your tax percentage? 8.25\n",
      "What % tip you would like to give?15\n",
      "Your tips is $ 15.0 !\n",
      "Your total amount is $ 123.25 !\n",
      "How many of you will share this bill? :4\n",
      "Everyone of you need to pay $ 30.8125\n"
     ]
    }
   ],
   "source": [
    "payment_calculator()"
   ]
  },
  {
   "cell_type": "code",
   "execution_count": null,
   "metadata": {},
   "outputs": [],
   "source": []
  },
  {
   "cell_type": "code",
   "execution_count": null,
   "metadata": {},
   "outputs": [],
   "source": []
  },
  {
   "cell_type": "code",
   "execution_count": null,
   "metadata": {
    "collapsed": true
   },
   "outputs": [],
   "source": []
  },
  {
   "cell_type": "code",
   "execution_count": null,
   "metadata": {},
   "outputs": [],
   "source": []
  },
  {
   "cell_type": "code",
   "execution_count": null,
   "metadata": {},
   "outputs": [],
   "source": []
  },
  {
   "cell_type": "code",
   "execution_count": null,
   "metadata": {},
   "outputs": [],
   "source": []
  },
  {
   "cell_type": "code",
   "execution_count": null,
   "metadata": {
    "collapsed": true
   },
   "outputs": [],
   "source": []
  }
 ],
 "metadata": {
  "kernelspec": {
   "display_name": "Python 3",
   "language": "python",
   "name": "python3"
  },
  "language_info": {
   "codemirror_mode": {
    "name": "ipython",
    "version": 3
   },
   "file_extension": ".py",
   "mimetype": "text/x-python",
   "name": "python",
   "nbconvert_exporter": "python",
   "pygments_lexer": "ipython3",
   "version": "3.6.1"
  }
 },
 "nbformat": 4,
 "nbformat_minor": 2
}
