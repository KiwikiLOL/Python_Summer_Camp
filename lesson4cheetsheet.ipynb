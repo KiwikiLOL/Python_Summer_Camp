{
 "cells": [
  {
   "cell_type": "markdown",
   "metadata": {},
   "source": [
    "Big idea list!\n"
   ]
  },
  {
   "cell_type": "code",
   "execution_count": 11,
   "metadata": {},
   "outputs": [
    {
     "name": "stdout",
     "output_type": "stream",
     "text": [
      "blue\n"
     ]
    }
   ],
   "source": [
    "color=['red','blue','green']\n",
    "print(color[1])\n"
   ]
  },
  {
   "cell_type": "code",
   "execution_count": 12,
   "metadata": {},
   "outputs": [
    {
     "name": "stdout",
     "output_type": "stream",
     "text": [
      "1\n"
     ]
    }
   ],
   "source": [
    "speed=[1,2,3]\n",
    "print(speed[0])"
   ]
  },
  {
   "cell_type": "code",
   "execution_count": 13,
   "metadata": {
    "collapsed": true
   },
   "outputs": [],
   "source": [
    "import turtle\n",
    "turtle0=turtle.Turtle()\n",
    "turtle1=turtle.Turtle()\n",
    "turtle2=turtle.Turtle()\n",
    "\n",
    "\n",
    "\n",
    "\n"
   ]
  },
  {
   "cell_type": "code",
   "execution_count": 4,
   "metadata": {},
   "outputs": [],
   "source": [
    "#turtle1.color(color[0])\n",
    "#turtle2.color(color[1])\n",
    "turtle3.color(color[2])"
   ]
  },
  {
   "cell_type": "code",
   "execution_count": 14,
   "metadata": {},
   "outputs": [],
   "source": [
    "turtle_list=[turtle0,turtle1,turtle2]\n",
    "for i in range(3):\n",
    "    turtle_list[i].color(color[i])\n",
    "    turtle_list[i].penup()\n",
    "    turtle_list[i].goto(-160, 100*i)\n",
    "    turtle_list[i].pendown()\n",
    "    \n",
    "    "
   ]
  },
  {
   "cell_type": "code",
   "execution_count": 15,
   "metadata": {},
   "outputs": [],
   "source": [
    "for turtle in turtle_list:\n",
    "    turtle.shape('turtle')"
   ]
  },
  {
   "cell_type": "code",
   "execution_count": 16,
   "metadata": {
    "collapsed": true
   },
   "outputs": [],
   "source": [
    "for i in range(3):\n",
    "    turtle_list[i].penup()\n",
    "    turtle_list[i].goto(-160, 100*i)\n",
    "    turtle_list[i].pendown()\n",
    "\n"
   ]
  },
  {
   "cell_type": "code",
   "execution_count": 17,
   "metadata": {},
   "outputs": [
    {
     "name": "stdout",
     "output_type": "stream",
     "text": [
      "(-60.00,0.00)\n",
      "(40.00,100.00)\n",
      "(140.00,200.00)\n"
     ]
    }
   ],
   "source": [
    "for movement in range(100):\n",
    "    for i in range(3):            \n",
    "        turtle_list[i].forward(speed[i])\n",
    "\n",
    "for turtle in turtle_list:\n",
    "    print(turtle.pos())\n",
    "    #turtle.reset()\n",
    "    \n"
   ]
  },
  {
   "cell_type": "code",
   "execution_count": 19,
   "metadata": {},
   "outputs": [
    {
     "name": "stdout",
     "output_type": "stream",
     "text": [
      "(-60.00,0.00)\n"
     ]
    }
   ],
   "source": [
    "pos=turtle_list[0].pos()\n",
    "print(pos)"
   ]
  },
  {
   "cell_type": "code",
   "execution_count": 19,
   "metadata": {},
   "outputs": [
    {
     "name": "stdout",
     "output_type": "stream",
     "text": [
      "(1976.00,0.00)\n",
      "(1957.00,100.00)\n",
      "(1973.00,200.00)\n"
     ]
    }
   ],
   "source": [
    "from random import randint\n",
    "for movement in range(100):\n",
    "    for turtle in turtle_list:\n",
    "        speed=randint(1,5)        \n",
    "        turtle.forward(speed)\n",
    "\n",
    "for turtle in turtle_list:\n",
    "    print(turtle.pos())\n",
    "        \n",
    "\n"
   ]
  },
  {
   "cell_type": "code",
   "execution_count": null,
   "metadata": {
    "collapsed": true
   },
   "outputs": [],
   "source": []
  }
 ],
 "metadata": {
  "kernelspec": {
   "display_name": "Python 3",
   "language": "python",
   "name": "python3"
  },
  "language_info": {
   "codemirror_mode": {
    "name": "ipython",
    "version": 3
   },
   "file_extension": ".py",
   "mimetype": "text/x-python",
   "name": "python",
   "nbconvert_exporter": "python",
   "pygments_lexer": "ipython3",
   "version": "3.6.1"
  }
 },
 "nbformat": 4,
 "nbformat_minor": 2
}
