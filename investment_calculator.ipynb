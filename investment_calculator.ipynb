{
 "cells": [
  {
   "cell_type": "code",
   "execution_count": 15,
   "metadata": {
    "collapsed": true
   },
   "outputs": [],
   "source": [
    "def investmentcalculator():\n",
    "    p=float(input('How much money do you want to invest? '))\n",
    "    returnrate=float(input('What is your return rate?'))\n",
    "    years=input('how many year you would like to wait? ')\n",
    "    an1=(1+returnrate)**int(years)\n",
    "    total=p*an1\n",
    "    print(total)"
   ]
  },
  {
   "cell_type": "code",
   "execution_count": 17,
   "metadata": {},
   "outputs": [
    {
     "name": "stdout",
     "output_type": "stream",
     "text": [
      "How much money do you want to invest? 100\n",
      "What is your return rate?0.03\n",
      "how many year you would like to wait? 10\n",
      "134.39163793441222\n"
     ]
    }
   ],
   "source": [
    "investmentcalculator()"
   ]
  },
  {
   "cell_type": "code",
   "execution_count": 5,
   "metadata": {
    "collapsed": true
   },
   "outputs": [],
   "source": [
    "def investmentcalculator2():\n",
    "    money=float(input('How much money do you want to invest? '))\n",
    "    returnrate=float(input('What is your return rate?'))\n",
    "    years=input('how many year you would like to wait? ')\n",
    "    for i in range(int(years)):\n",
    "        money=money*(1+returnrate)\n",
    "        print('In year'+str(i)+'your account have $'+str(money))\n",
    "   "
   ]
  },
  {
   "cell_type": "code",
   "execution_count": 6,
   "metadata": {},
   "outputs": [
    {
     "name": "stdout",
     "output_type": "stream",
     "text": [
      "How much money do you want to invest? 10000\n",
      "What is your return rate?0.02\n",
      "how many year you would like to wait? 10\n",
      "In year0your account have $10200.0\n",
      "In year1your account have $10404.0\n",
      "In year2your account have $10612.08\n",
      "In year3your account have $10824.3216\n",
      "In year4your account have $11040.808031999999\n",
      "In year5your account have $11261.62419264\n",
      "In year6your account have $11486.8566764928\n",
      "In year7your account have $11716.593810022656\n",
      "In year8your account have $11950.925686223109\n",
      "In year9your account have $12189.944199947571\n"
     ]
    }
   ],
   "source": [
    "investmentcalculator2()"
   ]
  },
  {
   "cell_type": "code",
   "execution_count": 7,
   "metadata": {},
   "outputs": [
    {
     "name": "stdout",
     "output_type": "stream",
     "text": [
      "2 0\n",
      "4 1\n",
      "8 2\n",
      "16 3\n",
      "32 4\n"
     ]
    }
   ],
   "source": [
    "ans=1\n",
    "n=5\n",
    "for i in range(n):\n",
    "    ans=ans*2\n",
    "    print(ans,i)"
   ]
  },
  {
   "cell_type": "code",
   "execution_count": 8,
   "metadata": {},
   "outputs": [
    {
     "data": {
      "text/plain": [
       "32"
      ]
     },
     "execution_count": 8,
     "metadata": {},
     "output_type": "execute_result"
    }
   ],
   "source": [
    "2**5"
   ]
  },
  {
   "cell_type": "code",
   "execution_count": null,
   "metadata": {
    "collapsed": true
   },
   "outputs": [],
   "source": []
  }
 ],
 "metadata": {
  "kernelspec": {
   "display_name": "Python 3",
   "language": "python",
   "name": "python3"
  },
  "language_info": {
   "codemirror_mode": {
    "name": "ipython",
    "version": 3
   },
   "file_extension": ".py",
   "mimetype": "text/x-python",
   "name": "python",
   "nbconvert_exporter": "python",
   "pygments_lexer": "ipython3",
   "version": "3.6.1"
  }
 },
 "nbformat": 4,
 "nbformat_minor": 2
}
